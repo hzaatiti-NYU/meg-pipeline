{
 "cells": [
  {
   "cell_type": "markdown",
   "id": "2ced50ce-d041-45df-bd5d-b07dbca228dc",
   "metadata": {},
   "source": [
    "Kidlang pipeline\n",
    "================"
   ]
  },
  {
   "cell_type": "markdown",
   "id": "766a35ce-eb8d-416e-8fad-ad62303c5075",
   "metadata": {},
   "source": [
    "Experiment description:\n",
    "\n",
    "- Two tasks\n",
    "- First task (active dialogue): the participant is seeing a picture with two objects, then the name of one of the object is played from an audio, then the  participant must say the name of the other object\n",
    "- Second task (Select from audio): the participant would hear the name of an object, he should then select the proper image from a set of 6 images"
   ]
  },
  {
   "cell_type": "markdown",
   "id": "595852f6-7220-466b-9e26-4edd8f165c57",
   "metadata": {},
   "source": [
    "Available data from 21 participants:\n",
    "- MEG data (.con and .mrk)\n",
    "- MRI data (fsaverage)\n",
    "- Digitized headshape\n",
    "\n",
    "Preprocessing is already done:\n",
    "- ICA for eyeblinks\n",
    "- Rejection of bad epochs\n",
    "- STC computed for all 21 participants (we only care about word 2, which defines the epoch)\n",
    "What is required:\n",
    "Time-lock analysis (not frequency)\n",
    "Statistical analysis:\n",
    "- Spatiotemporal clustering: finding regions of high activity across the entire brain over the duration of the epoch\n",
    "- ROI clustering:\n",
    "\n",
    "Location for STC for word 2/Server/NEUROLING/PersonalFiles/SherineBouDargham/KidLang/Adults/stc/ara_stc_w2"
   ]
  },
  {
   "cell_type": "code",
   "execution_count": null,
   "id": "28114153-a6c5-40a8-b886-564658b8c456",
   "metadata": {},
   "outputs": [],
   "source": []
  },
  {
   "cell_type": "code",
   "execution_count": 1,
   "id": "initial_id",
   "metadata": {
    "ExecuteTime": {
     "end_time": "2024-07-24T05:08:29.574484Z",
     "start_time": "2024-07-24T05:08:28.961659Z"
    },
    "collapsed": true,
    "jupyter": {
     "outputs_hidden": true
    }
   },
   "outputs": [],
   "source": [
    "import matplotlib"
   ]
  },
  {
   "cell_type": "code",
   "execution_count": null,
   "id": "f8a65fd72d17476d",
   "metadata": {},
   "outputs": [],
   "source": []
  }
 ],
 "metadata": {
  "kernelspec": {
   "display_name": "Python 3 (ipykernel)",
   "language": "python",
   "name": "python3"
  },
  "language_info": {
   "codemirror_mode": {
    "name": "ipython",
    "version": 3
   },
   "file_extension": ".py",
   "mimetype": "text/x-python",
   "name": "python",
   "nbconvert_exporter": "python",
   "pygments_lexer": "ipython3",
   "version": "3.12.2"
  }
 },
 "nbformat": 4,
 "nbformat_minor": 5
}
